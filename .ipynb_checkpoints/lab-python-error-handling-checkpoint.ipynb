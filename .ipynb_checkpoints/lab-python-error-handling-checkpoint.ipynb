{
 "cells": [
  {
   "cell_type": "markdown",
   "id": "25d7736c-ba17-4aff-b6bb-66eba20fbf4e",
   "metadata": {},
   "source": [
    "# Lab | Error Handling"
   ]
  },
  {
   "cell_type": "markdown",
   "id": "bc99b386-7508-47a0-bcdb-d969deaf6c8b",
   "metadata": {},
   "source": [
    "## Exercise: Error Handling for Managing Customer Orders\n",
    "\n",
    "The implementation of your code for managing customer orders assumes that the user will always enter a valid input. \n",
    "\n",
    "For example, we could modify the `initialize_inventory` function to include error handling.\n",
    "   - If the user enters an invalid quantity (e.g., a negative value or a non-numeric value), display an error message and ask them to re-enter the quantity for that product.\n",
    "   - Use a try-except block to handle the error and continue prompting the user until a valid quantity is entered.\n",
    "\n",
    "```python\n",
    "# Step 1: Define the function for initializing the inventory with error handling\n",
    "def initialize_inventory(products):\n",
    "    inventory = {}\n",
    "    for product in products:\n",
    "        valid_quantity = False\n",
    "        while not valid_quantity:\n",
    "            try:\n",
    "                quantity = int(input(f\"Enter the quantity of {product}s available: \"))\n",
    "                if quantity < 0:\n",
    "                    raise ValueError(\"Invalid quantity! Please enter a non-negative value.\")\n",
    "                valid_quantity = True\n",
    "            except ValueError as error:\n",
    "                print(f\"Error: {error}\")\n",
    "        inventory[product] = quantity\n",
    "    return inventory\n",
    "\n",
    "# Or, in another way:\n",
    "\n",
    "def initialize_inventory(products):\n",
    "    inventory = {}\n",
    "    for product in products:\n",
    "        valid_input = False\n",
    "        while not valid_input:\n",
    "            try:\n",
    "                quantity = int(input(f\"Enter the quantity of {product}s available: \"))\n",
    "                if quantity >= 0:\n",
    "                    inventory[product] = quantity\n",
    "                    valid_input = True\n",
    "                else:\n",
    "                    print(\"Quantity cannot be negative. Please enter a valid quantity.\")\n",
    "            except ValueError:\n",
    "   \n",
    "    print(\"Invalid input. Please enter a valid quantity.\")\n",
    "    return inventory\n",
    "```\n",
    "\n",
    "Let's enhance your code by implementing error handling to handle invalid inputs.\n",
    "\n",
    "Follow the steps below to complete the exercise:\n",
    "\n",
    "2. Modify the `calculate_total_price` function to include error handling.\n",
    "   - If the user enters an invalid price (e.g., a negative value or a non-numeric value), display an error message and ask them to re-enter the price for that product.\n",
    "   - Use a try-except block to handle the error and continue prompting the user until a valid price is entered.\n",
    "   \n",
    "    -Add a new function to calculate the total price of the customer order. For each product in customer_orders, prompt the user to enter the price of that product.\n",
    "   \n",
    "3. Modify the `get_customer_orders` function to include error handling.\n",
    "   - If the user enters an invalid number of orders (e.g., a negative value or a non-numeric value), display an error message and ask them to re-enter the number of orders.\n",
    "   - If the user enters an invalid product name (e.g., a product name that is not in the inventory), or that doesn't have stock available, display an error message and ask them to re-enter the product name. *Hint: you will need to pass inventory as a parameter*\n",
    "   - Use a try-except block to handle the error and continue prompting the user until a valid product name is entered.\n",
    "\n",
    "4. Test your code by running the program and deliberately entering invalid quantities and product names. Make sure the error handling mechanism works as expected.\n"
   ]
  },
  {
   "cell_type": "code",
   "execution_count": 1,
   "id": "25d37f7d",
   "metadata": {
    "scrolled": false
   },
   "outputs": [
    {
     "data": {
      "text/plain": [
       "['t-shirt', 'mug', 'hat', 'book', 'keychain']"
      ]
     },
     "execution_count": 1,
     "metadata": {},
     "output_type": "execute_result"
    }
   ],
   "source": [
    "# List called products:\n",
    "products = [\"t-shirt\", \"mug\", \"hat\", \"book\", \"keychain\"]\n",
    "products"
   ]
  },
  {
   "cell_type": "code",
   "execution_count": 2,
   "id": "dc71b2ac",
   "metadata": {},
   "outputs": [],
   "source": [
    "def initialize_inventory(products):\n",
    "    inventory = {}\n",
    "    for product in products:\n",
    "        valid_quantity = False\n",
    "        while not valid_quantity:\n",
    "            try:\n",
    "                quantity = int(input(f\"Enter the quantity of {product}s available: \"))\n",
    "                if quantity < 0:\n",
    "                    raise ValueError(\"Invalid quantity! Please enter a non-negative value.\")\n",
    "                valid_quantity = True\n",
    "            except ValueError as error:\n",
    "                print(f\"Error: {error}\")\n",
    "        inventory[product] = quantity\n",
    "    return inventory"
   ]
  },
  {
   "cell_type": "code",
   "execution_count": 3,
   "id": "493269c8",
   "metadata": {},
   "outputs": [
    {
     "name": "stdout",
     "output_type": "stream",
     "text": [
      "Enter the quantity of t-shirts available: 5\n",
      "Enter the quantity of mugs available: 5\n",
      "Enter the quantity of hats available: 5\n",
      "Enter the quantity of books available: 5\n",
      "Enter the quantity of keychains available: 5\n",
      "Inventory: {'t-shirt': 5, 'mug': 5, 'hat': 5, 'book': 5, 'keychain': 5}\n"
     ]
    }
   ],
   "source": [
    "inventory = initialize_inventory(products)\n",
    "print(\"Inventory:\", inventory)"
   ]
  },
  {
   "cell_type": "code",
   "execution_count": 4,
   "id": "b95e0764",
   "metadata": {},
   "outputs": [
    {
     "data": {
      "text/plain": [
       "{'book', 'hat', 'mug'}"
      ]
     },
     "execution_count": 4,
     "metadata": {},
     "output_type": "execute_result"
    }
   ],
   "source": [
    "customer_orders={'mug', 'book' , 'hat'}\n",
    "customer_orders\n"
   ]
  },
  {
   "cell_type": "code",
   "execution_count": 5,
   "id": "eb82ab11",
   "metadata": {},
   "outputs": [],
   "source": [
    "def calculate_total_price(customer_orders):\n",
    "    total_price=0\n",
    "    for product in customer_orders:\n",
    "        while True:\n",
    "            try : \n",
    "                price= float(input(f\"Please enter the price of {product}: \"))\n",
    "                if price < 0:\n",
    "                    print(\"ValueError : You can not put a negative value for a price\")\n",
    "                    continue\n",
    "                total_price += price\n",
    "                break\n",
    "            except ValueError:\n",
    "                \n",
    "                print(\"invalid input: please enter the correct price\")\n",
    "                 \n",
    "    return total_price\n",
    "                    \n",
    "                \n",
    "        \n",
    "        "
   ]
  },
  {
   "cell_type": "code",
   "execution_count": 6,
   "id": "0999361a",
   "metadata": {},
   "outputs": [
    {
     "name": "stdout",
     "output_type": "stream",
     "text": [
      "Please enter the price of mug: 4\n",
      "Please enter the price of book: 4\n",
      "Please enter the price of hat: 4\n",
      "Total price:  12.0\n"
     ]
    }
   ],
   "source": [
    "customer_orders = {'mug', 'book', 'hat'}\n",
    "total_price = calculate_total_price(customer_orders)\n",
    "print(\"Total price: \" , total_price)"
   ]
  },
  {
   "cell_type": "code",
   "execution_count": 7,
   "id": "5b490c3f",
   "metadata": {},
   "outputs": [],
   "source": [
    "def get_customer_orders(Inventory):\n",
    "    customer_orders={}\n",
    "    while True:\n",
    "        try:\n",
    "            product=input(f\"please enter the product to add to your order : \")\n",
    "            \n",
    "            if product not in inventory:\n",
    "                print(\"NameError: Please re-enter a correct name of the product\")\n",
    "                continue\n",
    "                \n",
    "            while True:\n",
    "                try:\n",
    "                    quantity=int(input(f\"please enter quantity of {product}: \"))\n",
    "                    if quantity <0 or quantity > 5:\n",
    "                        print(\"Error: please enter a valid quantity\")\n",
    "                        continue\n",
    "                    \n",
    "                    customer_orders[product]=quantity\n",
    "                    break\n",
    "                except ValueError as error:\n",
    "                    print(f\"Error: {error}\")\n",
    "            if input(\"Do you want to add more products to your order? (yes/no): \").strip().lower() != 'yes':\n",
    "                break\n",
    "        except KeyboardInterrupt:\n",
    "                print(\"order done\")\n",
    "                \n",
    "    return  customer_orders  "
   ]
  },
  {
   "cell_type": "code",
   "execution_count": 8,
   "id": "be8abe97",
   "metadata": {},
   "outputs": [
    {
     "name": "stdout",
     "output_type": "stream",
     "text": [
      "please enter the product to add to your order : manel\n",
      "NameError: Please re-enter a correct name of the product\n",
      "please enter the product to add to your order : hat\n",
      "please enter quantity of hat: 9\n",
      "Error: please enter a valid quantity\n",
      "please enter quantity of hat: 5\n",
      "Do you want to add more products to your order? (yes/no): yes\n",
      "please enter the product to add to your order : mug\n",
      "please enter quantity of mug: -8\n",
      "Error: please enter a valid quantity\n",
      "please enter quantity of mug: 3\n",
      "Do you want to add more products to your order? (yes/no): no\n",
      "Customer orders: {'hat': 5, 'mug': 3}\n"
     ]
    }
   ],
   "source": [
    "customer_orders = get_customer_orders(inventory)\n",
    "print(\"Customer orders:\", customer_orders)"
   ]
  }
 ],
 "metadata": {
  "kernelspec": {
   "display_name": "Python 3 (ipykernel)",
   "language": "python",
   "name": "python3"
  },
  "language_info": {
   "codemirror_mode": {
    "name": "ipython",
    "version": 3
   },
   "file_extension": ".py",
   "mimetype": "text/x-python",
   "name": "python",
   "nbconvert_exporter": "python",
   "pygments_lexer": "ipython3",
   "version": "3.11.5"
  }
 },
 "nbformat": 4,
 "nbformat_minor": 5
}
